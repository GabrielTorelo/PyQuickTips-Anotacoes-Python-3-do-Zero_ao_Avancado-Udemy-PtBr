{
  "nbformat": 4,
  "nbformat_minor": 0,
  "metadata": {
    "colab": {
      "provenance": []
    },
    "kernelspec": {
      "name": "python3",
      "display_name": "Python 3"
    },
    "language_info": {
      "name": "python"
    }
  },
  "cells": [
    {
      "cell_type": "markdown",
      "source": [
        "# **Usando o Google Colab (Python Notebook)**"
      ],
      "metadata": {
        "id": "s4ksa2NFbmV6"
      }
    },
    {
      "cell_type": "markdown",
      "source": [
        "Criando variáveis:"
      ],
      "metadata": {
        "id": "OGt9-BjQa3Ef"
      }
    },
    {
      "cell_type": "code",
      "execution_count": 2,
      "metadata": {
        "colab": {
          "base_uri": "https://localhost:8080/"
        },
        "id": "TqC6FQ48aqlL",
        "outputId": "4b61e7a0-cd81-42a8-d9a5-27b898856047"
      },
      "outputs": [
        {
          "output_type": "stream",
          "name": "stdout",
          "text": [
            "A: 1 | B: 2 | C: 3\n"
          ]
        }
      ],
      "source": [
        "a = 1\n",
        "b = 2\n",
        "c = 3\n",
        "\n",
        "print(f'A: {a} | B: {b} | C: {c}')"
      ]
    },
    {
      "cell_type": "markdown",
      "source": [
        "Manipulando variáveis:"
      ],
      "metadata": {
        "id": "CntKDLTebQKe"
      }
    },
    {
      "cell_type": "code",
      "source": [
        "a = b\n",
        "b = a * 2\n",
        "c = b ** 2\n",
        "\n",
        "print(f'A: {a} | B: {b} | C: {c}')"
      ],
      "metadata": {
        "colab": {
          "base_uri": "https://localhost:8080/"
        },
        "id": "lebeyH1_bTVX",
        "outputId": "32a3f77e-a464-4b8f-b5a3-36d2c50f38bd"
      },
      "execution_count": 3,
      "outputs": [
        {
          "output_type": "stream",
          "name": "stdout",
          "text": [
            "A: 2 | B: 4 | C: 16\n"
          ]
        }
      ]
    },
    {
      "cell_type": "markdown",
      "source": [
        "Importando um módulo:"
      ],
      "metadata": {
        "id": "9bpnnyJgcFfB"
      }
    },
    {
      "cell_type": "code",
      "source": [
        "from datetime import datetime"
      ],
      "metadata": {
        "id": "OlOyt-rVcISW"
      },
      "execution_count": 5,
      "outputs": []
    },
    {
      "cell_type": "markdown",
      "source": [
        "Usando um módulo:"
      ],
      "metadata": {
        "id": "SzaeDkaPcL_m"
      }
    },
    {
      "cell_type": "code",
      "source": [
        "d1 = datetime(2024, 5, 29)\n",
        "d2 = datetime(2024, 5, 28, 13, 11, 5)\n",
        "d3 = datetime.strptime('2024-05-29 13:17:09', '%Y-%m-%d %H:%M:%S')\n",
        "\n",
        "print(f'Data_1: {d1}')\n",
        "print(f'Data_2: {d2}')\n",
        "print(f'Data_3: {d3}')"
      ],
      "metadata": {
        "colab": {
          "base_uri": "https://localhost:8080/"
        },
        "id": "tX37ht3gcPam",
        "outputId": "3ff3aaba-3bad-4eda-aa80-73f318b19161"
      },
      "execution_count": 6,
      "outputs": [
        {
          "output_type": "stream",
          "name": "stdout",
          "text": [
            "Data_1: 2024-05-29 00:00:00\n",
            "Data_2: 2024-05-28 13:11:05\n",
            "Data_3: 2024-05-29 13:17:09\n"
          ]
        }
      ]
    }
  ]
}